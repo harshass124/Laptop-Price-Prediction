{
 "cells": [
  {
   "cell_type": "markdown",
   "id": "fbd24c67",
   "metadata": {},
   "source": [
    "# LAPTOP PRICE PREDICTION"
   ]
  },
  {
   "cell_type": "markdown",
   "id": "0fd3e63f",
   "metadata": {},
   "source": [
    "## Let's Dive into it"
   ]
  },
  {
   "cell_type": "markdown",
   "id": "280ddd4b",
   "metadata": {},
   "source": [
    "### Importing necessary libraries"
   ]
  },
  {
   "cell_type": "code",
   "execution_count": 1,
   "id": "eaa88f36",
   "metadata": {},
   "outputs": [],
   "source": [
    "import pandas as pd\n",
    "import numpy as np\n",
    "import matplotlib.pyplot as plt\n",
    "import seaborn as sns\n",
    "import warnings\n",
    "warnings.filterwarnings('ignore')"
   ]
  },
  {
   "cell_type": "markdown",
   "id": "97c4f730",
   "metadata": {},
   "source": [
    "### Read 'laptop_data_cleaned.csv' dataset and store it inside a variable"
   ]
  },
  {
   "cell_type": "code",
   "execution_count": 3,
   "id": "4cf5378c",
   "metadata": {},
   "outputs": [],
   "source": [
    "df=pd.read_csv('laptop_data_cleaned.csv')"
   ]
  },
  {
   "cell_type": "markdown",
   "id": "5f15d505",
   "metadata": {},
   "source": [
    "#### Check head"
   ]
  },
  {
   "cell_type": "code",
   "execution_count": 7,
   "id": "17c1f6bc",
   "metadata": {},
   "outputs": [
    {
     "data": {
      "text/html": [
       "<div>\n",
       "<style scoped>\n",
       "    .dataframe tbody tr th:only-of-type {\n",
       "        vertical-align: middle;\n",
       "    }\n",
       "\n",
       "    .dataframe tbody tr th {\n",
       "        vertical-align: top;\n",
       "    }\n",
       "\n",
       "    .dataframe thead th {\n",
       "        text-align: right;\n",
       "    }\n",
       "</style>\n",
       "<table border=\"1\" class=\"dataframe\">\n",
       "  <thead>\n",
       "    <tr style=\"text-align: right;\">\n",
       "      <th></th>\n",
       "      <th>Company</th>\n",
       "      <th>TypeName</th>\n",
       "      <th>Ram</th>\n",
       "      <th>Weight</th>\n",
       "      <th>Price</th>\n",
       "      <th>TouchScreen</th>\n",
       "      <th>Ips</th>\n",
       "      <th>Ppi</th>\n",
       "      <th>Cpu_brand</th>\n",
       "      <th>HDD</th>\n",
       "      <th>SSD</th>\n",
       "      <th>Gpu_brand</th>\n",
       "      <th>Os</th>\n",
       "    </tr>\n",
       "  </thead>\n",
       "  <tbody>\n",
       "    <tr>\n",
       "      <th>0</th>\n",
       "      <td>Apple</td>\n",
       "      <td>Ultrabook</td>\n",
       "      <td>8</td>\n",
       "      <td>1.37</td>\n",
       "      <td>11.175755</td>\n",
       "      <td>0</td>\n",
       "      <td>1</td>\n",
       "      <td>226.983005</td>\n",
       "      <td>Intel Core i5</td>\n",
       "      <td>0</td>\n",
       "      <td>128</td>\n",
       "      <td>Intel</td>\n",
       "      <td>Mac</td>\n",
       "    </tr>\n",
       "    <tr>\n",
       "      <th>1</th>\n",
       "      <td>Apple</td>\n",
       "      <td>Ultrabook</td>\n",
       "      <td>8</td>\n",
       "      <td>1.34</td>\n",
       "      <td>10.776777</td>\n",
       "      <td>0</td>\n",
       "      <td>0</td>\n",
       "      <td>127.677940</td>\n",
       "      <td>Intel Core i5</td>\n",
       "      <td>0</td>\n",
       "      <td>0</td>\n",
       "      <td>Intel</td>\n",
       "      <td>Mac</td>\n",
       "    </tr>\n",
       "    <tr>\n",
       "      <th>2</th>\n",
       "      <td>HP</td>\n",
       "      <td>Notebook</td>\n",
       "      <td>8</td>\n",
       "      <td>1.86</td>\n",
       "      <td>10.329931</td>\n",
       "      <td>0</td>\n",
       "      <td>0</td>\n",
       "      <td>141.211998</td>\n",
       "      <td>Intel Core i5</td>\n",
       "      <td>0</td>\n",
       "      <td>256</td>\n",
       "      <td>Intel</td>\n",
       "      <td>Others</td>\n",
       "    </tr>\n",
       "    <tr>\n",
       "      <th>3</th>\n",
       "      <td>Apple</td>\n",
       "      <td>Ultrabook</td>\n",
       "      <td>16</td>\n",
       "      <td>1.83</td>\n",
       "      <td>11.814476</td>\n",
       "      <td>0</td>\n",
       "      <td>1</td>\n",
       "      <td>220.534624</td>\n",
       "      <td>Intel Core i7</td>\n",
       "      <td>0</td>\n",
       "      <td>512</td>\n",
       "      <td>AMD</td>\n",
       "      <td>Mac</td>\n",
       "    </tr>\n",
       "    <tr>\n",
       "      <th>4</th>\n",
       "      <td>Apple</td>\n",
       "      <td>Ultrabook</td>\n",
       "      <td>8</td>\n",
       "      <td>1.37</td>\n",
       "      <td>11.473101</td>\n",
       "      <td>0</td>\n",
       "      <td>1</td>\n",
       "      <td>226.983005</td>\n",
       "      <td>Intel Core i5</td>\n",
       "      <td>0</td>\n",
       "      <td>256</td>\n",
       "      <td>Intel</td>\n",
       "      <td>Mac</td>\n",
       "    </tr>\n",
       "  </tbody>\n",
       "</table>\n",
       "</div>"
      ],
      "text/plain": [
       "  Company   TypeName  Ram  Weight      Price  TouchScreen  Ips         Ppi  \\\n",
       "0   Apple  Ultrabook    8    1.37  11.175755            0    1  226.983005   \n",
       "1   Apple  Ultrabook    8    1.34  10.776777            0    0  127.677940   \n",
       "2      HP   Notebook    8    1.86  10.329931            0    0  141.211998   \n",
       "3   Apple  Ultrabook   16    1.83  11.814476            0    1  220.534624   \n",
       "4   Apple  Ultrabook    8    1.37  11.473101            0    1  226.983005   \n",
       "\n",
       "       Cpu_brand  HDD  SSD Gpu_brand      Os  \n",
       "0  Intel Core i5    0  128     Intel     Mac  \n",
       "1  Intel Core i5    0    0     Intel     Mac  \n",
       "2  Intel Core i5    0  256     Intel  Others  \n",
       "3  Intel Core i7    0  512       AMD     Mac  \n",
       "4  Intel Core i5    0  256     Intel     Mac  "
      ]
     },
     "execution_count": 7,
     "metadata": {},
     "output_type": "execute_result"
    }
   ],
   "source": [
    "df.head()"
   ]
  },
  {
   "cell_type": "markdown",
   "id": "3fb316bf",
   "metadata": {},
   "source": [
    "### \n",
    "\n",
    "Data Cleaning"
   ]
  },
  {
   "cell_type": "code",
   "execution_count": 10,
   "id": "6b59a37b",
   "metadata": {},
   "outputs": [
    {
     "data": {
      "text/plain": [
       "Company        0\n",
       "TypeName       0\n",
       "Ram            0\n",
       "Weight         0\n",
       "Price          0\n",
       "TouchScreen    0\n",
       "Ips            0\n",
       "Ppi            0\n",
       "Cpu_brand      0\n",
       "HDD            0\n",
       "SSD            0\n",
       "Gpu_brand      0\n",
       "Os             0\n",
       "dtype: int64"
      ]
     },
     "execution_count": 10,
     "metadata": {},
     "output_type": "execute_result"
    }
   ],
   "source": [
    "df.isnull().sum()"
   ]
  },
  {
   "cell_type": "markdown",
   "id": "88ed9502",
   "metadata": {},
   "source": [
    "#### View info about the dataset\n"
   ]
  },
  {
   "cell_type": "code",
   "execution_count": 13,
   "id": "3c5ce891",
   "metadata": {
    "scrolled": true
   },
   "outputs": [
    {
     "name": "stdout",
     "output_type": "stream",
     "text": [
      "<class 'pandas.core.frame.DataFrame'>\n",
      "RangeIndex: 1273 entries, 0 to 1272\n",
      "Data columns (total 13 columns):\n",
      " #   Column       Non-Null Count  Dtype  \n",
      "---  ------       --------------  -----  \n",
      " 0   Company      1273 non-null   object \n",
      " 1   TypeName     1273 non-null   object \n",
      " 2   Ram          1273 non-null   int64  \n",
      " 3   Weight       1273 non-null   float64\n",
      " 4   Price        1273 non-null   float64\n",
      " 5   TouchScreen  1273 non-null   int64  \n",
      " 6   Ips          1273 non-null   int64  \n",
      " 7   Ppi          1273 non-null   float64\n",
      " 8   Cpu_brand    1273 non-null   object \n",
      " 9   HDD          1273 non-null   int64  \n",
      " 10  SSD          1273 non-null   int64  \n",
      " 11  Gpu_brand    1273 non-null   object \n",
      " 12  Os           1273 non-null   object \n",
      "dtypes: float64(3), int64(5), object(5)\n",
      "memory usage: 129.4+ KB\n"
     ]
    }
   ],
   "source": [
    "df.info()"
   ]
  },
  {
   "cell_type": "markdown",
   "id": "d8ccb5e0",
   "metadata": {},
   "source": [
    "#### check number of rows and columns"
   ]
  },
  {
   "cell_type": "code",
   "execution_count": 16,
   "id": "43a795c9",
   "metadata": {},
   "outputs": [
    {
     "data": {
      "text/plain": [
       "(1273, 13)"
      ]
     },
     "execution_count": 16,
     "metadata": {},
     "output_type": "execute_result"
    }
   ],
   "source": [
    "\n",
    "df.shape"
   ]
  },
  {
   "cell_type": "markdown",
   "id": "1bc96cae",
   "metadata": {},
   "source": [
    "#### View basic statistical information about the dataset"
   ]
  },
  {
   "cell_type": "code",
   "execution_count": 19,
   "id": "ac1f082c",
   "metadata": {},
   "outputs": [
    {
     "data": {
      "text/html": [
       "<div>\n",
       "<style scoped>\n",
       "    .dataframe tbody tr th:only-of-type {\n",
       "        vertical-align: middle;\n",
       "    }\n",
       "\n",
       "    .dataframe tbody tr th {\n",
       "        vertical-align: top;\n",
       "    }\n",
       "\n",
       "    .dataframe thead th {\n",
       "        text-align: right;\n",
       "    }\n",
       "</style>\n",
       "<table border=\"1\" class=\"dataframe\">\n",
       "  <thead>\n",
       "    <tr style=\"text-align: right;\">\n",
       "      <th></th>\n",
       "      <th>Ram</th>\n",
       "      <th>Weight</th>\n",
       "      <th>Price</th>\n",
       "      <th>TouchScreen</th>\n",
       "      <th>Ips</th>\n",
       "      <th>Ppi</th>\n",
       "      <th>HDD</th>\n",
       "      <th>SSD</th>\n",
       "    </tr>\n",
       "  </thead>\n",
       "  <tbody>\n",
       "    <tr>\n",
       "      <th>count</th>\n",
       "      <td>1273.000000</td>\n",
       "      <td>1273.000000</td>\n",
       "      <td>1273.000000</td>\n",
       "      <td>1273.000000</td>\n",
       "      <td>1273.000000</td>\n",
       "      <td>1273.000000</td>\n",
       "      <td>1273.000000</td>\n",
       "      <td>1273.000000</td>\n",
       "    </tr>\n",
       "    <tr>\n",
       "      <th>mean</th>\n",
       "      <td>8.447761</td>\n",
       "      <td>2.041100</td>\n",
       "      <td>10.828218</td>\n",
       "      <td>0.146897</td>\n",
       "      <td>0.279654</td>\n",
       "      <td>146.950812</td>\n",
       "      <td>413.715632</td>\n",
       "      <td>186.252946</td>\n",
       "    </tr>\n",
       "    <tr>\n",
       "      <th>std</th>\n",
       "      <td>5.098771</td>\n",
       "      <td>0.669241</td>\n",
       "      <td>0.619565</td>\n",
       "      <td>0.354142</td>\n",
       "      <td>0.449006</td>\n",
       "      <td>42.926775</td>\n",
       "      <td>518.054486</td>\n",
       "      <td>186.531571</td>\n",
       "    </tr>\n",
       "    <tr>\n",
       "      <th>min</th>\n",
       "      <td>2.000000</td>\n",
       "      <td>0.690000</td>\n",
       "      <td>9.134616</td>\n",
       "      <td>0.000000</td>\n",
       "      <td>0.000000</td>\n",
       "      <td>90.583402</td>\n",
       "      <td>0.000000</td>\n",
       "      <td>0.000000</td>\n",
       "    </tr>\n",
       "    <tr>\n",
       "      <th>25%</th>\n",
       "      <td>4.000000</td>\n",
       "      <td>1.500000</td>\n",
       "      <td>10.387379</td>\n",
       "      <td>0.000000</td>\n",
       "      <td>0.000000</td>\n",
       "      <td>127.335675</td>\n",
       "      <td>0.000000</td>\n",
       "      <td>0.000000</td>\n",
       "    </tr>\n",
       "    <tr>\n",
       "      <th>50%</th>\n",
       "      <td>8.000000</td>\n",
       "      <td>2.040000</td>\n",
       "      <td>10.872255</td>\n",
       "      <td>0.000000</td>\n",
       "      <td>0.000000</td>\n",
       "      <td>141.211998</td>\n",
       "      <td>0.000000</td>\n",
       "      <td>256.000000</td>\n",
       "    </tr>\n",
       "    <tr>\n",
       "      <th>75%</th>\n",
       "      <td>8.000000</td>\n",
       "      <td>2.310000</td>\n",
       "      <td>11.287447</td>\n",
       "      <td>0.000000</td>\n",
       "      <td>1.000000</td>\n",
       "      <td>157.350512</td>\n",
       "      <td>1000.000000</td>\n",
       "      <td>256.000000</td>\n",
       "    </tr>\n",
       "    <tr>\n",
       "      <th>max</th>\n",
       "      <td>64.000000</td>\n",
       "      <td>4.700000</td>\n",
       "      <td>12.691441</td>\n",
       "      <td>1.000000</td>\n",
       "      <td>1.000000</td>\n",
       "      <td>352.465147</td>\n",
       "      <td>2000.000000</td>\n",
       "      <td>1024.000000</td>\n",
       "    </tr>\n",
       "  </tbody>\n",
       "</table>\n",
       "</div>"
      ],
      "text/plain": [
       "               Ram       Weight        Price  TouchScreen          Ips  \\\n",
       "count  1273.000000  1273.000000  1273.000000  1273.000000  1273.000000   \n",
       "mean      8.447761     2.041100    10.828218     0.146897     0.279654   \n",
       "std       5.098771     0.669241     0.619565     0.354142     0.449006   \n",
       "min       2.000000     0.690000     9.134616     0.000000     0.000000   \n",
       "25%       4.000000     1.500000    10.387379     0.000000     0.000000   \n",
       "50%       8.000000     2.040000    10.872255     0.000000     0.000000   \n",
       "75%       8.000000     2.310000    11.287447     0.000000     1.000000   \n",
       "max      64.000000     4.700000    12.691441     1.000000     1.000000   \n",
       "\n",
       "               Ppi          HDD          SSD  \n",
       "count  1273.000000  1273.000000  1273.000000  \n",
       "mean    146.950812   413.715632   186.252946  \n",
       "std      42.926775   518.054486   186.531571  \n",
       "min      90.583402     0.000000     0.000000  \n",
       "25%     127.335675     0.000000     0.000000  \n",
       "50%     141.211998     0.000000   256.000000  \n",
       "75%     157.350512  1000.000000   256.000000  \n",
       "max     352.465147  2000.000000  1024.000000  "
      ]
     },
     "execution_count": 19,
     "metadata": {},
     "output_type": "execute_result"
    }
   ],
   "source": [
    "df.describe()"
   ]
  },
  {
   "cell_type": "code",
   "execution_count": 21,
   "id": "2a2fb956",
   "metadata": {},
   "outputs": [
    {
     "data": {
      "text/html": [
       "<div>\n",
       "<style scoped>\n",
       "    .dataframe tbody tr th:only-of-type {\n",
       "        vertical-align: middle;\n",
       "    }\n",
       "\n",
       "    .dataframe tbody tr th {\n",
       "        vertical-align: top;\n",
       "    }\n",
       "\n",
       "    .dataframe thead th {\n",
       "        text-align: right;\n",
       "    }\n",
       "</style>\n",
       "<table border=\"1\" class=\"dataframe\">\n",
       "  <thead>\n",
       "    <tr style=\"text-align: right;\">\n",
       "      <th></th>\n",
       "      <th>Company</th>\n",
       "      <th>TypeName</th>\n",
       "      <th>Ram</th>\n",
       "      <th>Weight</th>\n",
       "      <th>Price</th>\n",
       "      <th>TouchScreen</th>\n",
       "      <th>Ips</th>\n",
       "      <th>Ppi</th>\n",
       "      <th>Cpu_brand</th>\n",
       "      <th>HDD</th>\n",
       "      <th>SSD</th>\n",
       "      <th>Gpu_brand</th>\n",
       "      <th>Os</th>\n",
       "    </tr>\n",
       "  </thead>\n",
       "  <tbody>\n",
       "    <tr>\n",
       "      <th>1004</th>\n",
       "      <td>Toshiba</td>\n",
       "      <td>Notebook</td>\n",
       "      <td>4</td>\n",
       "      <td>1.2</td>\n",
       "      <td>11.061462</td>\n",
       "      <td>0</td>\n",
       "      <td>0</td>\n",
       "      <td>165.632118</td>\n",
       "      <td>Intel Core i5</td>\n",
       "      <td>0</td>\n",
       "      <td>128</td>\n",
       "      <td>Intel</td>\n",
       "      <td>Windows</td>\n",
       "    </tr>\n",
       "  </tbody>\n",
       "</table>\n",
       "</div>"
      ],
      "text/plain": [
       "      Company  TypeName  Ram  Weight      Price  TouchScreen  Ips         Ppi  \\\n",
       "1004  Toshiba  Notebook    4     1.2  11.061462            0    0  165.632118   \n",
       "\n",
       "          Cpu_brand  HDD  SSD Gpu_brand       Os  \n",
       "1004  Intel Core i5    0  128     Intel  Windows  "
      ]
     },
     "execution_count": 21,
     "metadata": {},
     "output_type": "execute_result"
    }
   ],
   "source": [
    "#checking for duplicate values\n",
    "df[df.duplicated()]"
   ]
  },
  {
   "cell_type": "code",
   "execution_count": 23,
   "id": "43e582de",
   "metadata": {},
   "outputs": [],
   "source": [
    "#removing duplicate values\n",
    "df.drop_duplicates(keep=False, inplace=True)"
   ]
  },
  {
   "cell_type": "code",
   "execution_count": 25,
   "id": "437986c1",
   "metadata": {},
   "outputs": [],
   "source": [
    "df.rename(columns={'Ram': 'Ram(GB)'}, inplace=True)"
   ]
  },
  {
   "cell_type": "code",
   "execution_count": 27,
   "id": "aed93d83",
   "metadata": {},
   "outputs": [],
   "source": [
    "\n",
    "df.rename(columns={'Weight': 'Weight(Kg)'}, inplace=True)"
   ]
  },
  {
   "cell_type": "code",
   "execution_count": 29,
   "id": "3c0ad4f0",
   "metadata": {
    "scrolled": true
   },
   "outputs": [
    {
     "data": {
      "text/html": [
       "<div>\n",
       "<style scoped>\n",
       "    .dataframe tbody tr th:only-of-type {\n",
       "        vertical-align: middle;\n",
       "    }\n",
       "\n",
       "    .dataframe tbody tr th {\n",
       "        vertical-align: top;\n",
       "    }\n",
       "\n",
       "    .dataframe thead th {\n",
       "        text-align: right;\n",
       "    }\n",
       "</style>\n",
       "<table border=\"1\" class=\"dataframe\">\n",
       "  <thead>\n",
       "    <tr style=\"text-align: right;\">\n",
       "      <th></th>\n",
       "      <th>Company</th>\n",
       "      <th>TypeName</th>\n",
       "      <th>Ram(GB)</th>\n",
       "      <th>Weight(Kg)</th>\n",
       "      <th>Price</th>\n",
       "      <th>TouchScreen</th>\n",
       "      <th>Ips</th>\n",
       "      <th>Ppi</th>\n",
       "      <th>Cpu_brand</th>\n",
       "      <th>HDD</th>\n",
       "      <th>SSD</th>\n",
       "      <th>Gpu_brand</th>\n",
       "      <th>Os</th>\n",
       "    </tr>\n",
       "  </thead>\n",
       "  <tbody>\n",
       "    <tr>\n",
       "      <th>0</th>\n",
       "      <td>Apple</td>\n",
       "      <td>Ultrabook</td>\n",
       "      <td>8</td>\n",
       "      <td>1.37</td>\n",
       "      <td>11.175755</td>\n",
       "      <td>0</td>\n",
       "      <td>1</td>\n",
       "      <td>226.983005</td>\n",
       "      <td>Intel Core i5</td>\n",
       "      <td>0</td>\n",
       "      <td>128</td>\n",
       "      <td>Intel</td>\n",
       "      <td>Mac</td>\n",
       "    </tr>\n",
       "    <tr>\n",
       "      <th>1</th>\n",
       "      <td>Apple</td>\n",
       "      <td>Ultrabook</td>\n",
       "      <td>8</td>\n",
       "      <td>1.34</td>\n",
       "      <td>10.776777</td>\n",
       "      <td>0</td>\n",
       "      <td>0</td>\n",
       "      <td>127.677940</td>\n",
       "      <td>Intel Core i5</td>\n",
       "      <td>0</td>\n",
       "      <td>0</td>\n",
       "      <td>Intel</td>\n",
       "      <td>Mac</td>\n",
       "    </tr>\n",
       "    <tr>\n",
       "      <th>2</th>\n",
       "      <td>HP</td>\n",
       "      <td>Notebook</td>\n",
       "      <td>8</td>\n",
       "      <td>1.86</td>\n",
       "      <td>10.329931</td>\n",
       "      <td>0</td>\n",
       "      <td>0</td>\n",
       "      <td>141.211998</td>\n",
       "      <td>Intel Core i5</td>\n",
       "      <td>0</td>\n",
       "      <td>256</td>\n",
       "      <td>Intel</td>\n",
       "      <td>Others</td>\n",
       "    </tr>\n",
       "    <tr>\n",
       "      <th>3</th>\n",
       "      <td>Apple</td>\n",
       "      <td>Ultrabook</td>\n",
       "      <td>16</td>\n",
       "      <td>1.83</td>\n",
       "      <td>11.814476</td>\n",
       "      <td>0</td>\n",
       "      <td>1</td>\n",
       "      <td>220.534624</td>\n",
       "      <td>Intel Core i7</td>\n",
       "      <td>0</td>\n",
       "      <td>512</td>\n",
       "      <td>AMD</td>\n",
       "      <td>Mac</td>\n",
       "    </tr>\n",
       "    <tr>\n",
       "      <th>4</th>\n",
       "      <td>Apple</td>\n",
       "      <td>Ultrabook</td>\n",
       "      <td>8</td>\n",
       "      <td>1.37</td>\n",
       "      <td>11.473101</td>\n",
       "      <td>0</td>\n",
       "      <td>1</td>\n",
       "      <td>226.983005</td>\n",
       "      <td>Intel Core i5</td>\n",
       "      <td>0</td>\n",
       "      <td>256</td>\n",
       "      <td>Intel</td>\n",
       "      <td>Mac</td>\n",
       "    </tr>\n",
       "  </tbody>\n",
       "</table>\n",
       "</div>"
      ],
      "text/plain": [
       "  Company   TypeName  Ram(GB)  Weight(Kg)      Price  TouchScreen  Ips  \\\n",
       "0   Apple  Ultrabook        8        1.37  11.175755            0    1   \n",
       "1   Apple  Ultrabook        8        1.34  10.776777            0    0   \n",
       "2      HP   Notebook        8        1.86  10.329931            0    0   \n",
       "3   Apple  Ultrabook       16        1.83  11.814476            0    1   \n",
       "4   Apple  Ultrabook        8        1.37  11.473101            0    1   \n",
       "\n",
       "          Ppi      Cpu_brand  HDD  SSD Gpu_brand      Os  \n",
       "0  226.983005  Intel Core i5    0  128     Intel     Mac  \n",
       "1  127.677940  Intel Core i5    0    0     Intel     Mac  \n",
       "2  141.211998  Intel Core i5    0  256     Intel  Others  \n",
       "3  220.534624  Intel Core i7    0  512       AMD     Mac  \n",
       "4  226.983005  Intel Core i5    0  256     Intel     Mac  "
      ]
     },
     "execution_count": 29,
     "metadata": {},
     "output_type": "execute_result"
    }
   ],
   "source": [
    "\n",
    "df.head()"
   ]
  },
  {
   "cell_type": "markdown",
   "id": "0ba1a8eb",
   "metadata": {},
   "source": [
    "### Data Visualization"
   ]
  },
  {
   "cell_type": "markdown",
   "id": "79e9e5c0",
   "metadata": {},
   "source": [
    "#### Displaying the distribution of prices of the laptops"
   ]
  },
  {
   "cell_type": "code",
   "execution_count": 33,
   "id": "f95aea34",
   "metadata": {},
   "outputs": [
    {
     "data": {
      "text/plain": [
       "<Axes: xlabel='Price', ylabel='Density'>"
      ]
     },
     "execution_count": 33,
     "metadata": {},
     "output_type": "execute_result"
    },
    {
     "data": {
      "image/png": "[encoded data removed]",
      "text/plain": [
       "<Figure size 640x480 with 1 Axes>"
      ]
     },
     "metadata": {},
     "output_type": "display_data"
    }
   ],
   "source": [
    "sns.distplot(df['Price'])"
   ]
  },
  {
   "cell_type": "markdown",
   "id": "709613e6",
   "metadata": {},
   "source": [
    "\n",
    "\n",
    "\n",
    "\n",
    "Clearly, the distribution of the price is skewed."
   ]
  },
  {
   "cell_type": "markdown",
   "id": "352b813e",
   "metadata": {},
   "source": [
    "#### Comparison of Laptop Prices"
   ]
  },
  {
   "cell_type": "code",
   "execution_count": 37,
   "id": "78d248f8",
   "metadata": {},
   "outputs": [
    {
     "data": {
      "image/png": "[encoded data removed]",
      "text/plain": [
       "<Figure size 1600x400 with 1 Axes>"
      ]
     },
     "metadata": {},
     "output_type": "display_data"
    }
   ],
   "source": [
    "plt.figure(figsize = (16,4))\n",
    "sns.countplot(data = df, x = 'Company')\n",
    "plt.ylabel('Price')\n",
    "plt.show()"
   ]
  },
  {
   "cell_type": "markdown",
   "id": "cb11047c",
   "metadata": {},
   "source": [
    "Laptops from  Dell, Lenovo and HP tend to command a higher price compared to others, suggesting brand influence on pricing"
   ]
  },
  {
   "cell_type": "markdown",
   "id": "46f2feb1",
   "metadata": {},
   "source": [
    "#### Relationship between RAM Size and Laptop Price"
   ]
  },
  {
   "cell_type": "code",
   "execution_count": 41,
   "id": "6dc1aad1",
   "metadata": {},
   "outputs": [
    {
     "data": {
      "text/plain": [
       "<Axes: xlabel='Ram(GB)', ylabel='Price'>"
      ]
     },
     "execution_count": 41,
     "metadata": {},
     "output_type": "execute_result"
    },
    {
     "data": {
      "image/png": "[encoded data removed]",
      "text/plain": [
       "<Figure size 640x480 with 1 Axes>"
      ]
     },
     "metadata": {},
     "output_type": "display_data"
    }
   ],
   "source": [
    "sns.scatterplot(x='Ram(GB)', y='Price', data=df)"
   ]
  },
  {
   "cell_type": "markdown",
   "id": "25695f51",
   "metadata": {},
   "source": [
    "As RAM size increases, the price of laptops also tends to increase, indicating a positive correlation between RAM and price"
   ]
  },
  {
   "cell_type": "markdown",
   "id": "4448abaa",
   "metadata": {},
   "source": [
    "#### Distribution of Touchscreen Laptops"
   ]
  },
  {
   "cell_type": "code",
   "execution_count": 45,
   "id": "eb7cacef",
   "metadata": {},
   "outputs": [],
   "source": [
    "touchscreen_counts = df['TouchScreen'].value_counts()"
   ]
  },
  {
   "cell_type": "code",
   "execution_count": 47,
   "id": "918a9cac-63d3-4dd0-9923-8c06957162f4",
   "metadata": {},
   "outputs": [
    {
     "data": {
      "image/png": "[encoded data removed]",
      "text/plain": [
       "<Figure size 800x600 with 1 Axes>"
      ]
     },
     "metadata": {},
     "output_type": "display_data"
    }
   ],
   "source": [
    "\n",
    "plt.figure(figsize=(8, 6))\n",
    "plt.pie(touchscreen_counts, labels=touchscreen_counts.index, autopct='%1.1f%%', startangle=140)\n",
    "plt.title('Distribution of Touchscreen Laptops')\n",
    "plt.axis('equal')  # Equal aspect ratio ensures that pie is drawn as a circle.\n",
    "plt.legend(touchscreen_counts.index, title=\"Touchscreen\", loc=\"best\")  # Add a legend\n",
    "plt.show()\n"
   ]
  },
  {
   "cell_type": "markdown",
   "id": "182152fd",
   "metadata": {},
   "source": [
    "Approximately 85.3% of laptops in the dataset feature touchscreen functionality, indicating a growing trend towards interactive displays.\""
   ]
  },
  {
   "cell_type": "markdown",
   "id": "5537bc2e",
   "metadata": {},
   "source": [
    "#### Average Laptop Price by Operating System"
   ]
  },
  {
   "cell_type": "code",
   "execution_count": 51,
   "id": "bbfd9ef3",
   "metadata": {},
   "outputs": [
    {
     "data": {
      "image/png": "[encoded data removed]",
      "text/plain": [
       "<Figure size 640x480 with 1 Axes>"
      ]
     },
     "metadata": {},
     "output_type": "display_data"
    }
   ],
   "source": [
    "sns.barplot(x=df['Os'],y=df['Price'])\n",
    "plt.xticks(rotation='vertical')\n",
    "plt.show()"
   ]
  },
  {
   "cell_type": "markdown",
   "id": "90670825",
   "metadata": {},
   "source": [
    "The bar plot of average laptop prices by operating system shows that laptops running macOS (Mac) are generally more expensive compared to those running other operating systems (Others). This indicates a higher price point for Mac laptops in this dataset."
   ]
  },
  {
   "cell_type": "markdown",
   "id": "27327757",
   "metadata": {},
   "source": [
    "#### Distribution of Laptop Weights\n"
   ]
  },
  {
   "cell_type": "code",
   "execution_count": 55,
   "id": "3fff7597",
   "metadata": {},
   "outputs": [
    {
     "data": {
      "text/plain": [
       "<Axes: xlabel='Weight(Kg)', ylabel='Density'>"
      ]
     },
     "execution_count": 55,
     "metadata": {},
     "output_type": "execute_result"
    },
    {
     "data": {
      "image/png": "[encoded data removed]",
      "text/plain": [
       "<Figure size 640x480 with 1 Axes>"
      ]
     },
     "metadata": {},
     "output_type": "display_data"
    }
   ],
   "source": [
    "sns.distplot(df['Weight(Kg)'])"
   ]
  },
  {
   "cell_type": "markdown",
   "id": "fa6eecde",
   "metadata": {},
   "source": [
    "The distribution plot of laptop weights shows that the majority of the laptops are clustered around weights of approximately 1.34 to 1.37 kg, with fewer laptops being significantly heavier at around 1.83 to 1.86 kg. This suggests that lighter laptops are more common in this dataset."
   ]
  },
  {
   "cell_type": "markdown",
   "id": "9fa01ed5",
   "metadata": {},
   "source": [
    "#### Distribution of Laptop Weights"
   ]
  },
  {
   "cell_type": "code",
   "execution_count": 59,
   "id": "a0183c5e",
   "metadata": {},
   "outputs": [
    {
     "data": {
      "image/png": "[encoded data removed]",
      "text/plain": [
       "<Figure size 800x600 with 1 Axes>"
      ]
     },
     "metadata": {},
     "output_type": "display_data"
    }
   ],
   "source": [
    "\n",
    "plt.figure(figsize=(8, 6))\n",
    "plt.hist(df['Weight(Kg)'], bins=5, color='skyblue', edgecolor='black')\n",
    "plt.title('Distribution of Laptop Weights')\n",
    "plt.xlabel('Weight (Kg)')\n",
    "plt.ylabel('Frequency')\n",
    "plt.grid(True)\n",
    "plt.show()"
   ]
  },
  {
   "cell_type": "markdown",
   "id": "a521e661",
   "metadata": {},
   "source": [
    "\n",
    "\n",
    "\n",
    "The majority of laptops in the dataset weigh between 0.7Kg-3.1kg , with a few outliers at the heavier end, suggesting a range of portability options for consumers"
   ]
  },
  {
   "cell_type": "markdown",
   "id": "aba5bbae",
   "metadata": {},
   "source": [
    "#### Correlation Heatmap of Laptop Features"
   ]
  },
  {
   "cell_type": "code",
   "execution_count": 109,
   "id": "79a12ceb",
   "metadata": {},
   "outputs": [
    {
     "data": {
      "text/plain": [
       "<Axes: >"
      ]
     },
     "execution_count": 109,
     "metadata": {},
     "output_type": "execute_result"
    },
    {
     "data": {
      "image/png": "[encoded data removed]",
      "text/plain": [
       "<Figure size 640x480 with 2 Axes>"
      ]
     },
     "metadata": {},
     "output_type": "display_data"
    }
   ],
   "source": [
    "sns.heatmap(df.corr())"
   ]
  },
  {
   "cell_type": "markdown",
   "id": "c6dcfc48",
   "metadata": {},
   "source": [
    "The heatmap illustrates the correlation between different features of laptops in the dataset. Key insights include:\n",
    "\n",
    "- Strong positive correlations between RAM and Price, as well as between SSD storage and Price, indicating that higher RAM and SSD capacities tend to increase laptop prices.\n",
    "- Moderate positive correlations between IPS (In-Plane Switching) display and PPI (Pixels Per Inch), suggesting that laptops with IPS screens often have higher pixel densities.\n",
    "\n",
    "This visualization helps identify which features might influence each other and their collective impact on laptop prices.\n",
    "\n",
    "\n",
    "\n",
    "\n"
   ]
  },
  {
   "cell_type": "markdown",
   "id": "3c728200",
   "metadata": {},
   "source": [
    "## Data Preprocessing"
   ]
  },
  {
   "cell_type": "code",
   "execution_count": 63,
   "id": "c3915b9d",
   "metadata": {},
   "outputs": [
    {
     "data": {
      "text/html": [
       "<div>\n",
       "<style scoped>\n",
       "    .dataframe tbody tr th:only-of-type {\n",
       "        vertical-align: middle;\n",
       "    }\n",
       "\n",
       "    .dataframe tbody tr th {\n",
       "        vertical-align: top;\n",
       "    }\n",
       "\n",
       "    .dataframe thead th {\n",
       "        text-align: right;\n",
       "    }\n",
       "</style>\n",
       "<table border=\"1\" class=\"dataframe\">\n",
       "  <thead>\n",
       "    <tr style=\"text-align: right;\">\n",
       "      <th></th>\n",
       "      <th>Company</th>\n",
       "      <th>TypeName</th>\n",
       "      <th>Ram(GB)</th>\n",
       "      <th>Weight(Kg)</th>\n",
       "      <th>Price</th>\n",
       "      <th>TouchScreen</th>\n",
       "      <th>Ips</th>\n",
       "      <th>Ppi</th>\n",
       "      <th>Cpu_brand</th>\n",
       "      <th>HDD</th>\n",
       "      <th>SSD</th>\n",
       "      <th>Gpu_brand</th>\n",
       "      <th>Os</th>\n",
       "    </tr>\n",
       "  </thead>\n",
       "  <tbody>\n",
       "    <tr>\n",
       "      <th>0</th>\n",
       "      <td>Apple</td>\n",
       "      <td>Ultrabook</td>\n",
       "      <td>8</td>\n",
       "      <td>1.37</td>\n",
       "      <td>11.175755</td>\n",
       "      <td>0</td>\n",
       "      <td>1</td>\n",
       "      <td>226.983005</td>\n",
       "      <td>Intel Core i5</td>\n",
       "      <td>0</td>\n",
       "      <td>128</td>\n",
       "      <td>Intel</td>\n",
       "      <td>Mac</td>\n",
       "    </tr>\n",
       "    <tr>\n",
       "      <th>1</th>\n",
       "      <td>Apple</td>\n",
       "      <td>Ultrabook</td>\n",
       "      <td>8</td>\n",
       "      <td>1.34</td>\n",
       "      <td>10.776777</td>\n",
       "      <td>0</td>\n",
       "      <td>0</td>\n",
       "      <td>127.677940</td>\n",
       "      <td>Intel Core i5</td>\n",
       "      <td>0</td>\n",
       "      <td>0</td>\n",
       "      <td>Intel</td>\n",
       "      <td>Mac</td>\n",
       "    </tr>\n",
       "    <tr>\n",
       "      <th>2</th>\n",
       "      <td>HP</td>\n",
       "      <td>Notebook</td>\n",
       "      <td>8</td>\n",
       "      <td>1.86</td>\n",
       "      <td>10.329931</td>\n",
       "      <td>0</td>\n",
       "      <td>0</td>\n",
       "      <td>141.211998</td>\n",
       "      <td>Intel Core i5</td>\n",
       "      <td>0</td>\n",
       "      <td>256</td>\n",
       "      <td>Intel</td>\n",
       "      <td>Others</td>\n",
       "    </tr>\n",
       "    <tr>\n",
       "      <th>3</th>\n",
       "      <td>Apple</td>\n",
       "      <td>Ultrabook</td>\n",
       "      <td>16</td>\n",
       "      <td>1.83</td>\n",
       "      <td>11.814476</td>\n",
       "      <td>0</td>\n",
       "      <td>1</td>\n",
       "      <td>220.534624</td>\n",
       "      <td>Intel Core i7</td>\n",
       "      <td>0</td>\n",
       "      <td>512</td>\n",
       "      <td>AMD</td>\n",
       "      <td>Mac</td>\n",
       "    </tr>\n",
       "    <tr>\n",
       "      <th>4</th>\n",
       "      <td>Apple</td>\n",
       "      <td>Ultrabook</td>\n",
       "      <td>8</td>\n",
       "      <td>1.37</td>\n",
       "      <td>11.473101</td>\n",
       "      <td>0</td>\n",
       "      <td>1</td>\n",
       "      <td>226.983005</td>\n",
       "      <td>Intel Core i5</td>\n",
       "      <td>0</td>\n",
       "      <td>256</td>\n",
       "      <td>Intel</td>\n",
       "      <td>Mac</td>\n",
       "    </tr>\n",
       "  </tbody>\n",
       "</table>\n",
       "</div>"
      ],
      "text/plain": [
       "  Company   TypeName  Ram(GB)  Weight(Kg)      Price  TouchScreen  Ips  \\\n",
       "0   Apple  Ultrabook        8        1.37  11.175755            0    1   \n",
       "1   Apple  Ultrabook        8        1.34  10.776777            0    0   \n",
       "2      HP   Notebook        8        1.86  10.329931            0    0   \n",
       "3   Apple  Ultrabook       16        1.83  11.814476            0    1   \n",
       "4   Apple  Ultrabook        8        1.37  11.473101            0    1   \n",
       "\n",
       "          Ppi      Cpu_brand  HDD  SSD Gpu_brand      Os  \n",
       "0  226.983005  Intel Core i5    0  128     Intel     Mac  \n",
       "1  127.677940  Intel Core i5    0    0     Intel     Mac  \n",
       "2  141.211998  Intel Core i5    0  256     Intel  Others  \n",
       "3  220.534624  Intel Core i7    0  512       AMD     Mac  \n",
       "4  226.983005  Intel Core i5    0  256     Intel     Mac  "
      ]
     },
     "execution_count": 63,
     "metadata": {},
     "output_type": "execute_result"
    }
   ],
   "source": [
    "df.head()"
   ]
  },
  {
   "cell_type": "markdown",
   "id": "c9907e55",
   "metadata": {},
   "source": [
    "### Convert the rest of the categorical values into numeric using LabelEncoding and store the results in a old dataframe df"
   ]
  },
  {
   "cell_type": "code",
   "execution_count": 66,
   "id": "c9f4cd57",
   "metadata": {},
   "outputs": [],
   "source": [
    "from sklearn.preprocessing import LabelEncoder"
   ]
  },
  {
   "cell_type": "code",
   "execution_count": 68,
   "id": "0cbd2d16",
   "metadata": {},
   "outputs": [],
   "source": [
    "a=LabelEncoder()"
   ]
  },
  {
   "cell_type": "code",
   "execution_count": 70,
   "id": "ecbb8917",
   "metadata": {},
   "outputs": [],
   "source": [
    "df['Company']=a.fit_transform(df['Company'])"
   ]
  },
  {
   "cell_type": "code",
   "execution_count": 72,
   "id": "d9fb546c",
   "metadata": {},
   "outputs": [],
   "source": [
    "df['TypeName']=a.fit_transform(df['TypeName'])"
   ]
  },
  {
   "cell_type": "code",
   "execution_count": 74,
   "id": "3cb507b1",
   "metadata": {},
   "outputs": [],
   "source": [
    "df['Cpu_brand']=a.fit_transform(df['Cpu_brand'])"
   ]
  },
  {
   "cell_type": "code",
   "execution_count": 76,
   "id": "32a7a824",
   "metadata": {},
   "outputs": [],
   "source": [
    "df['Gpu_brand']=a.fit_transform(df['Gpu_brand'])"
   ]
  },
  {
   "cell_type": "code",
   "execution_count": 78,
   "id": "3a3b2f03",
   "metadata": {},
   "outputs": [],
   "source": [
    "df['Os']=a.fit_transform(df['Os'])"
   ]
  },
  {
   "cell_type": "code",
   "execution_count": 80,
   "id": "44c0d35c",
   "metadata": {},
   "outputs": [
    {
     "data": {
      "text/html": [
       "<div>\n",
       "<style scoped>\n",
       "    .dataframe tbody tr th:only-of-type {\n",
       "        vertical-align: middle;\n",
       "    }\n",
       "\n",
       "    .dataframe tbody tr th {\n",
       "        vertical-align: top;\n",
       "    }\n",
       "\n",
       "    .dataframe thead th {\n",
       "        text-align: right;\n",
       "    }\n",
       "</style>\n",
       "<table border=\"1\" class=\"dataframe\">\n",
       "  <thead>\n",
       "    <tr style=\"text-align: right;\">\n",
       "      <th></th>\n",
       "      <th>Company</th>\n",
       "      <th>TypeName</th>\n",
       "      <th>Ram(GB)</th>\n",
       "      <th>Weight(Kg)</th>\n",
       "      <th>Price</th>\n",
       "      <th>TouchScreen</th>\n",
       "      <th>Ips</th>\n",
       "      <th>Ppi</th>\n",
       "      <th>Cpu_brand</th>\n",
       "      <th>HDD</th>\n",
       "      <th>SSD</th>\n",
       "      <th>Gpu_brand</th>\n",
       "      <th>Os</th>\n",
       "    </tr>\n",
       "  </thead>\n",
       "  <tbody>\n",
       "    <tr>\n",
       "      <th>0</th>\n",
       "      <td>1</td>\n",
       "      <td>4</td>\n",
       "      <td>8</td>\n",
       "      <td>1.37</td>\n",
       "      <td>11.175755</td>\n",
       "      <td>0</td>\n",
       "      <td>1</td>\n",
       "      <td>226.983005</td>\n",
       "      <td>2</td>\n",
       "      <td>0</td>\n",
       "      <td>128</td>\n",
       "      <td>1</td>\n",
       "      <td>0</td>\n",
       "    </tr>\n",
       "    <tr>\n",
       "      <th>1</th>\n",
       "      <td>1</td>\n",
       "      <td>4</td>\n",
       "      <td>8</td>\n",
       "      <td>1.34</td>\n",
       "      <td>10.776777</td>\n",
       "      <td>0</td>\n",
       "      <td>0</td>\n",
       "      <td>127.677940</td>\n",
       "      <td>2</td>\n",
       "      <td>0</td>\n",
       "      <td>0</td>\n",
       "      <td>1</td>\n",
       "      <td>0</td>\n",
       "    </tr>\n",
       "    <tr>\n",
       "      <th>2</th>\n",
       "      <td>7</td>\n",
       "      <td>3</td>\n",
       "      <td>8</td>\n",
       "      <td>1.86</td>\n",
       "      <td>10.329931</td>\n",
       "      <td>0</td>\n",
       "      <td>0</td>\n",
       "      <td>141.211998</td>\n",
       "      <td>2</td>\n",
       "      <td>0</td>\n",
       "      <td>256</td>\n",
       "      <td>1</td>\n",
       "      <td>1</td>\n",
       "    </tr>\n",
       "    <tr>\n",
       "      <th>3</th>\n",
       "      <td>1</td>\n",
       "      <td>4</td>\n",
       "      <td>16</td>\n",
       "      <td>1.83</td>\n",
       "      <td>11.814476</td>\n",
       "      <td>0</td>\n",
       "      <td>1</td>\n",
       "      <td>220.534624</td>\n",
       "      <td>3</td>\n",
       "      <td>0</td>\n",
       "      <td>512</td>\n",
       "      <td>0</td>\n",
       "      <td>0</td>\n",
       "    </tr>\n",
       "    <tr>\n",
       "      <th>4</th>\n",
       "      <td>1</td>\n",
       "      <td>4</td>\n",
       "      <td>8</td>\n",
       "      <td>1.37</td>\n",
       "      <td>11.473101</td>\n",
       "      <td>0</td>\n",
       "      <td>1</td>\n",
       "      <td>226.983005</td>\n",
       "      <td>2</td>\n",
       "      <td>0</td>\n",
       "      <td>256</td>\n",
       "      <td>1</td>\n",
       "      <td>0</td>\n",
       "    </tr>\n",
       "  </tbody>\n",
       "</table>\n",
       "</div>"
      ],
      "text/plain": [
       "   Company  TypeName  Ram(GB)  Weight(Kg)      Price  TouchScreen  Ips  \\\n",
       "0        1         4        8        1.37  11.175755            0    1   \n",
       "1        1         4        8        1.34  10.776777            0    0   \n",
       "2        7         3        8        1.86  10.329931            0    0   \n",
       "3        1         4       16        1.83  11.814476            0    1   \n",
       "4        1         4        8        1.37  11.473101            0    1   \n",
       "\n",
       "          Ppi  Cpu_brand  HDD  SSD  Gpu_brand  Os  \n",
       "0  226.983005          2    0  128          1   0  \n",
       "1  127.677940          2    0    0          1   0  \n",
       "2  141.211998          2    0  256          1   1  \n",
       "3  220.534624          3    0  512          0   0  \n",
       "4  226.983005          2    0  256          1   0  "
      ]
     },
     "execution_count": 80,
     "metadata": {},
     "output_type": "execute_result"
    }
   ],
   "source": [
    "df.head()"
   ]
  },
  {
   "cell_type": "code",
   "execution_count": 82,
   "id": "f49ff859",
   "metadata": {},
   "outputs": [
    {
     "data": {
      "text/plain": [
       "Index(['Company', 'TypeName', 'Ram(GB)', 'Weight(Kg)', 'Price', 'TouchScreen',\n",
       "       'Ips', 'Ppi', 'Cpu_brand', 'HDD', 'SSD', 'Gpu_brand', 'Os'],\n",
       "      dtype='object')"
      ]
     },
     "execution_count": 82,
     "metadata": {},
     "output_type": "execute_result"
    }
   ],
   "source": [
    "df.columns"
   ]
  },
  {
   "cell_type": "markdown",
   "id": "1ec03803",
   "metadata": {},
   "source": [
    "#### Split the columns into input and target variables (X and y)"
   ]
  },
  {
   "cell_type": "code",
   "execution_count": 85,
   "id": "08b27910",
   "metadata": {},
   "outputs": [],
   "source": [
    "\n",
    "X = df.drop(columns=['Price'])\n",
    "y = df['Price']"
   ]
  },
  {
   "cell_type": "code",
   "execution_count": 87,
   "id": "c898b4ce",
   "metadata": {},
   "outputs": [
    {
     "data": {
      "text/html": [
       "<div>\n",
       "<style scoped>\n",
       "    .dataframe tbody tr th:only-of-type {\n",
       "        vertical-align: middle;\n",
       "    }\n",
       "\n",
       "    .dataframe tbody tr th {\n",
       "        vertical-align: top;\n",
       "    }\n",
       "\n",
       "    .dataframe thead th {\n",
       "        text-align: right;\n",
       "    }\n",
       "</style>\n",
       "<table border=\"1\" class=\"dataframe\">\n",
       "  <thead>\n",
       "    <tr style=\"text-align: right;\">\n",
       "      <th></th>\n",
       "      <th>Company</th>\n",
       "      <th>TypeName</th>\n",
       "      <th>Ram(GB)</th>\n",
       "      <th>Weight(Kg)</th>\n",
       "      <th>TouchScreen</th>\n",
       "      <th>Ips</th>\n",
       "      <th>Ppi</th>\n",
       "      <th>Cpu_brand</th>\n",
       "      <th>HDD</th>\n",
       "      <th>SSD</th>\n",
       "      <th>Gpu_brand</th>\n",
       "      <th>Os</th>\n",
       "    </tr>\n",
       "  </thead>\n",
       "  <tbody>\n",
       "    <tr>\n",
       "      <th>0</th>\n",
       "      <td>1</td>\n",
       "      <td>4</td>\n",
       "      <td>8</td>\n",
       "      <td>1.37</td>\n",
       "      <td>0</td>\n",
       "      <td>1</td>\n",
       "      <td>226.983005</td>\n",
       "      <td>2</td>\n",
       "      <td>0</td>\n",
       "      <td>128</td>\n",
       "      <td>1</td>\n",
       "      <td>0</td>\n",
       "    </tr>\n",
       "    <tr>\n",
       "      <th>1</th>\n",
       "      <td>1</td>\n",
       "      <td>4</td>\n",
       "      <td>8</td>\n",
       "      <td>1.34</td>\n",
       "      <td>0</td>\n",
       "      <td>0</td>\n",
       "      <td>127.677940</td>\n",
       "      <td>2</td>\n",
       "      <td>0</td>\n",
       "      <td>0</td>\n",
       "      <td>1</td>\n",
       "      <td>0</td>\n",
       "    </tr>\n",
       "    <tr>\n",
       "      <th>2</th>\n",
       "      <td>7</td>\n",
       "      <td>3</td>\n",
       "      <td>8</td>\n",
       "      <td>1.86</td>\n",
       "      <td>0</td>\n",
       "      <td>0</td>\n",
       "      <td>141.211998</td>\n",
       "      <td>2</td>\n",
       "      <td>0</td>\n",
       "      <td>256</td>\n",
       "      <td>1</td>\n",
       "      <td>1</td>\n",
       "    </tr>\n",
       "    <tr>\n",
       "      <th>3</th>\n",
       "      <td>1</td>\n",
       "      <td>4</td>\n",
       "      <td>16</td>\n",
       "      <td>1.83</td>\n",
       "      <td>0</td>\n",
       "      <td>1</td>\n",
       "      <td>220.534624</td>\n",
       "      <td>3</td>\n",
       "      <td>0</td>\n",
       "      <td>512</td>\n",
       "      <td>0</td>\n",
       "      <td>0</td>\n",
       "    </tr>\n",
       "    <tr>\n",
       "      <th>4</th>\n",
       "      <td>1</td>\n",
       "      <td>4</td>\n",
       "      <td>8</td>\n",
       "      <td>1.37</td>\n",
       "      <td>0</td>\n",
       "      <td>1</td>\n",
       "      <td>226.983005</td>\n",
       "      <td>2</td>\n",
       "      <td>0</td>\n",
       "      <td>256</td>\n",
       "      <td>1</td>\n",
       "      <td>0</td>\n",
       "    </tr>\n",
       "  </tbody>\n",
       "</table>\n",
       "</div>"
      ],
      "text/plain": [
       "   Company  TypeName  Ram(GB)  Weight(Kg)  TouchScreen  Ips         Ppi  \\\n",
       "0        1         4        8        1.37            0    1  226.983005   \n",
       "1        1         4        8        1.34            0    0  127.677940   \n",
       "2        7         3        8        1.86            0    0  141.211998   \n",
       "3        1         4       16        1.83            0    1  220.534624   \n",
       "4        1         4        8        1.37            0    1  226.983005   \n",
       "\n",
       "   Cpu_brand  HDD  SSD  Gpu_brand  Os  \n",
       "0          2    0  128          1   0  \n",
       "1          2    0    0          1   0  \n",
       "2          2    0  256          1   1  \n",
       "3          3    0  512          0   0  \n",
       "4          2    0  256          1   0  "
      ]
     },
     "execution_count": 87,
     "metadata": {},
     "output_type": "execute_result"
    }
   ],
   "source": [
    "X.head()"
   ]
  },
  {
   "cell_type": "code",
   "execution_count": 89,
   "id": "adc1ad55",
   "metadata": {},
   "outputs": [
    {
     "data": {
      "text/plain": [
       "0    11.175755\n",
       "1    10.776777\n",
       "2    10.329931\n",
       "3    11.814476\n",
       "4    11.473101\n",
       "Name: Price, dtype: float64"
      ]
     },
     "execution_count": 89,
     "metadata": {},
     "output_type": "execute_result"
    }
   ],
   "source": [
    "y.head()"
   ]
  },
  {
   "cell_type": "markdown",
   "id": "0602ae8b",
   "metadata": {},
   "source": [
    "#### Carry out Feature scaling using StandardScaler"
   ]
  },
  {
   "cell_type": "code",
   "execution_count": 92,
   "id": "9ad6dc29",
   "metadata": {},
   "outputs": [],
   "source": [
    "from sklearn.preprocessing import StandardScaler"
   ]
  },
  {
   "cell_type": "code",
   "execution_count": 94,
   "id": "556ed824",
   "metadata": {},
   "outputs": [],
   "source": [
    "scaler=StandardScaler()"
   ]
  },
  {
   "cell_type": "code",
   "execution_count": 96,
   "id": "46878ae2",
   "metadata": {},
   "outputs": [],
   "source": [
    "x_scaler=scaler.fit_transform(X)"
   ]
  },
  {
   "cell_type": "code",
   "execution_count": 98,
   "id": "75d291e4",
   "metadata": {},
   "outputs": [
    {
     "data": {
      "text/html": [
       "<div>\n",
       "<style scoped>\n",
       "    .dataframe tbody tr th:only-of-type {\n",
       "        vertical-align: middle;\n",
       "    }\n",
       "\n",
       "    .dataframe tbody tr th {\n",
       "        vertical-align: top;\n",
       "    }\n",
       "\n",
       "    .dataframe thead th {\n",
       "        text-align: right;\n",
       "    }\n",
       "</style>\n",
       "<table border=\"1\" class=\"dataframe\">\n",
       "  <thead>\n",
       "    <tr style=\"text-align: right;\">\n",
       "      <th></th>\n",
       "      <th>Company</th>\n",
       "      <th>TypeName</th>\n",
       "      <th>Ram(GB)</th>\n",
       "      <th>Weight(Kg)</th>\n",
       "      <th>TouchScreen</th>\n",
       "      <th>Ips</th>\n",
       "      <th>Ppi</th>\n",
       "      <th>Cpu_brand</th>\n",
       "      <th>HDD</th>\n",
       "      <th>SSD</th>\n",
       "      <th>Gpu_brand</th>\n",
       "      <th>Os</th>\n",
       "    </tr>\n",
       "  </thead>\n",
       "  <tbody>\n",
       "    <tr>\n",
       "      <th>0</th>\n",
       "      <td>-1.335637</td>\n",
       "      <td>1.135574</td>\n",
       "      <td>-0.089209</td>\n",
       "      <td>-1.005611</td>\n",
       "      <td>-0.415342</td>\n",
       "      <td>1.603192</td>\n",
       "      <td>1.864618</td>\n",
       "      <td>-0.435879</td>\n",
       "      <td>-0.799939</td>\n",
       "      <td>-0.312688</td>\n",
       "      <td>-0.270173</td>\n",
       "      <td>-4.584399</td>\n",
       "    </tr>\n",
       "    <tr>\n",
       "      <th>1</th>\n",
       "      <td>-1.335637</td>\n",
       "      <td>1.135574</td>\n",
       "      <td>-0.089209</td>\n",
       "      <td>-1.050477</td>\n",
       "      <td>-0.415342</td>\n",
       "      <td>-0.623756</td>\n",
       "      <td>-0.448177</td>\n",
       "      <td>-0.435879</td>\n",
       "      <td>-0.799939</td>\n",
       "      <td>-0.998682</td>\n",
       "      <td>-0.270173</td>\n",
       "      <td>-4.584399</td>\n",
       "    </tr>\n",
       "    <tr>\n",
       "      <th>2</th>\n",
       "      <td>0.136904</td>\n",
       "      <td>0.333733</td>\n",
       "      <td>-0.089209</td>\n",
       "      <td>-0.272815</td>\n",
       "      <td>-0.415342</td>\n",
       "      <td>-0.623756</td>\n",
       "      <td>-0.132971</td>\n",
       "      <td>-0.435879</td>\n",
       "      <td>-0.799939</td>\n",
       "      <td>0.373306</td>\n",
       "      <td>-0.270173</td>\n",
       "      <td>-2.102810</td>\n",
       "    </tr>\n",
       "    <tr>\n",
       "      <th>3</th>\n",
       "      <td>-1.335637</td>\n",
       "      <td>1.135574</td>\n",
       "      <td>1.480121</td>\n",
       "      <td>-0.317680</td>\n",
       "      <td>-0.415342</td>\n",
       "      <td>1.603192</td>\n",
       "      <td>1.714437</td>\n",
       "      <td>0.584383</td>\n",
       "      <td>-0.799939</td>\n",
       "      <td>1.745294</td>\n",
       "      <td>-1.816971</td>\n",
       "      <td>-4.584399</td>\n",
       "    </tr>\n",
       "    <tr>\n",
       "      <th>4</th>\n",
       "      <td>-1.335637</td>\n",
       "      <td>1.135574</td>\n",
       "      <td>-0.089209</td>\n",
       "      <td>-1.005611</td>\n",
       "      <td>-0.415342</td>\n",
       "      <td>1.603192</td>\n",
       "      <td>1.864618</td>\n",
       "      <td>-0.435879</td>\n",
       "      <td>-0.799939</td>\n",
       "      <td>0.373306</td>\n",
       "      <td>-0.270173</td>\n",
       "      <td>-4.584399</td>\n",
       "    </tr>\n",
       "  </tbody>\n",
       "</table>\n",
       "</div>"
      ],
      "text/plain": [
       "    Company  TypeName   Ram(GB)  Weight(Kg)  TouchScreen       Ips       Ppi  \\\n",
       "0 -1.335637  1.135574 -0.089209   -1.005611    -0.415342  1.603192  1.864618   \n",
       "1 -1.335637  1.135574 -0.089209   -1.050477    -0.415342 -0.623756 -0.448177   \n",
       "2  0.136904  0.333733 -0.089209   -0.272815    -0.415342 -0.623756 -0.132971   \n",
       "3 -1.335637  1.135574  1.480121   -0.317680    -0.415342  1.603192  1.714437   \n",
       "4 -1.335637  1.135574 -0.089209   -1.005611    -0.415342  1.603192  1.864618   \n",
       "\n",
       "   Cpu_brand       HDD       SSD  Gpu_brand        Os  \n",
       "0  -0.435879 -0.799939 -0.312688  -0.270173 -4.584399  \n",
       "1  -0.435879 -0.799939 -0.998682  -0.270173 -4.584399  \n",
       "2  -0.435879 -0.799939  0.373306  -0.270173 -2.102810  \n",
       "3   0.584383 -0.799939  1.745294  -1.816971 -4.584399  \n",
       "4  -0.435879 -0.799939  0.373306  -0.270173 -4.584399  "
      ]
     },
     "execution_count": 98,
     "metadata": {},
     "output_type": "execute_result"
    }
   ],
   "source": [
    "X=pd.DataFrame(x_scaler,columns=X.columns)\n",
    "X.head()"
   ]
  },
  {
   "cell_type": "markdown",
   "id": "954904ee",
   "metadata": {},
   "source": [
    "#### Split the dataset into training and testing set"
   ]
  },
  {
   "cell_type": "code",
   "execution_count": 101,
   "id": "93e4c886",
   "metadata": {},
   "outputs": [],
   "source": [
    "from sklearn.model_selection import train_test_split"
   ]
  },
  {
   "cell_type": "code",
   "execution_count": 103,
   "id": "fa2e5a94",
   "metadata": {},
   "outputs": [],
   "source": [
    "X_train,X_test,y_train,y_test = train_test_split(X,y,test_size=0.15,random_state=2)"
   ]
  },
  {
   "cell_type": "markdown",
   "id": "a9289c5e",
   "metadata": {},
   "source": [
    "### Machine Learning Models"
   ]
  },
  {
   "cell_type": "markdown",
   "id": "fef006ce",
   "metadata": {},
   "source": [
    "#### Linear Regression"
   ]
  },
  {
   "cell_type": "code",
   "execution_count": 107,
   "id": "d2ce0d79",
   "metadata": {},
   "outputs": [
    {
     "name": "stdout",
     "output_type": "stream",
     "text": [
      "Coefficients: [ 0.03382401  0.04138846  0.21779438  0.03125312  0.00801485  0.03773547\n",
      "  0.1308287  -0.01670904  0.00843727  0.17929758  0.0978921   0.05914357]\n",
      "Intercept: 10.826507031135893\n",
      "Predicted values (y_pred): [10.1133436  10.87515507 10.86927075 11.39967776 10.08948661 10.91770865\n",
      " 11.39873299 10.55027036 11.16293478 10.22622448 10.32914655 10.93095582\n",
      " 10.17129495 10.71430358 11.23172607 11.7899848  10.82620605 10.40991249\n",
      " 11.46510055 10.5019523  10.73029107 10.60644731 10.50909947 11.95290914\n",
      " 11.29241518 10.28018708 10.95442363 10.46119171 10.82719098 10.79150029\n",
      " 10.72845136 10.37010992 10.16525637 10.81311909 10.70989171 10.6994747\n",
      " 11.6686464  11.54047758 10.67478666 10.80445998 10.08739336 11.23125868\n",
      " 10.63772726 10.5790225  10.99613488 11.34289346 11.01504674 10.20027189\n",
      " 10.84857831 10.99830644 10.64758683 10.25373217 10.46518086 10.8675659\n",
      " 10.96227043 10.30415592 10.71863775  9.99722343 10.07192119 10.55027036\n",
      " 11.54207885 10.79555951 10.88162198 10.26398201 10.22291098 10.88613188\n",
      " 10.31846575 11.17477502 10.82762706 10.84336247 10.61071848 10.32944497\n",
      " 10.8554009  10.63562127 10.84545599 10.1908845  11.4249119  10.82240196\n",
      " 11.29263074 10.19520488 11.38159805 11.29187983 10.77586202 10.88953329\n",
      " 10.2144565  10.42560468 10.77217314 10.95472762 10.56855656 10.18589694\n",
      " 11.33467221 10.14023809 10.38817847 13.2628917  10.82620605 10.45419506\n",
      " 10.59650022 10.87235072 10.13050002 10.41815725 11.09918703 10.81829986\n",
      " 11.03445259 10.85036422 10.5048259  10.72527395 11.35524555 11.95290914\n",
      " 10.83770462 10.46232495 10.95815718 10.7359297  10.7589111  11.27573596\n",
      " 10.17129495 10.57052556 10.88939832 11.24410416 10.56576935 10.74026122\n",
      " 10.30708153 10.85588611 10.02027634 11.10170534 10.29924559 10.30862449\n",
      " 11.63235342 10.76693795 11.54775706 10.19581614 10.84846761 10.63689492\n",
      " 10.48352502 11.54275428 10.27197633 11.22705215 10.85718575 11.62464235\n",
      " 10.81291191 11.08789437 10.97703808 12.02991119 10.4657313  10.83382001\n",
      " 10.64409837 10.71065408 10.78398555 11.29608383 10.55984023 10.50564765\n",
      " 10.08736929 11.05248029 11.0643898  10.8018974  11.43379926 10.96423327\n",
      " 11.11707629 10.3320673  10.80115604 10.54430984 10.18398619 10.95039959\n",
      " 10.85014054 10.16884934 11.09446166 11.26680834 10.49864163 10.93508711\n",
      " 10.32130086 10.97029468 12.19281074 10.90041517 11.46115132 10.75659774\n",
      " 10.97177522 10.27436395 11.00292644 10.56117977 10.92154063 10.47286687\n",
      " 10.67022393 10.95549678 10.59939106 10.93629375 10.37971098 10.19270039\n",
      " 10.22669187 10.74923215 10.95334134 10.64681212 10.56046551]\n",
      "R-squared Score: 0.6726062753447974\n",
      "Mean Squared Error: 0.1323422224542117\n",
      "Mean Absolute Error: 0.2791586776922359\n",
      "Root Mean Squared Error: 0.36378870578154526\n"
     ]
    }
   ],
   "source": [
    "from sklearn.linear_model import LinearRegression\n",
    "from sklearn.metrics import mean_absolute_error, mean_squared_error, r2_score\n",
    "import numpy as np\n",
    "\n",
    "# Fit the model\n",
    "model = LinearRegression()\n",
    "model.fit(X_train, y_train)\n",
    "print(\"Coefficients:\", model.coef_)\n",
    "print(\"Intercept:\", model.intercept_)\n",
    "\n",
    "# Predict on the test set\n",
    "y_pred = model.predict(X_test)\n",
    "print('Predicted values (y_pred):', y_pred) \n",
    "\n",
    "# Calculate R-squared score\n",
    "r2 = r2_score(y_test, y_pred)\n",
    "print(\"R-squared Score:\", r2)\n",
    "\n",
    "# Calculate Mean Squared Error\n",
    "mse = mean_squared_error(y_test, y_pred)\n",
    "print(\"Mean Squared Error:\", mse)\n",
    "\n",
    "# Calculate Mean Absolute Error\n",
    "mae = mean_absolute_error(y_test, y_pred)\n",
    "print(\"Mean Absolute Error:\", mae)\n",
    "\n",
    "# Calculate Root Mean Squared Error\n",
    "rmse = np.sqrt(mse)\n",
    "print(\"Root Mean Squared Error:\", rmse)"
   ]
  },
  {
   "cell_type": "code",
   "execution_count": 113,
   "id": "ec22dd4a",
   "metadata": {},
   "outputs": [
    {
     "data": {
      "text/plain": [
       "191"
      ]
     },
     "execution_count": 113,
     "metadata": {},
     "output_type": "execute_result"
    }
   ],
   "source": [
    "c=[i for i in range(191)]\n",
    "len(c)"
   ]
  },
  {
   "cell_type": "code",
   "execution_count": 115,
   "id": "1239364d",
   "metadata": {
    "scrolled": true
   },
   "outputs": [
    {
     "data": {
      "image/png": "[encoded data removed]",
      "text/plain": [
       "<Figure size 640x480 with 1 Axes>"
      ]
     },
     "metadata": {},
     "output_type": "display_data"
    }
   ],
   "source": [
    "# plt.scatter(y_test,y_pred)\n",
    "# len(y_pred)\n",
    "plt.plot(c,y_test,\"green\")#actual values\n",
    "plt.plot(c,y_pred,'red')#predicted values\n",
    "plt.show()"
   ]
  },
  {
   "cell_type": "markdown",
   "id": "152dad61",
   "metadata": {},
   "source": [
    "The alignment between the red (predicted) and green (actual) lines indicates the model's ability to approximate the true values.\n",
    "Overall, the close alignment between the predicted and actual values suggests that the model performs well in capturing the underlying patterns and trends in the data."
   ]
  },
  {
   "cell_type": "markdown",
   "id": "4ab4cf9b",
   "metadata": {},
   "source": [
    "#### Ridge Regression"
   ]
  },
  {
   "cell_type": "code",
   "execution_count": 122,
   "id": "d7455b50",
   "metadata": {},
   "outputs": [
    {
     "name": "stdout",
     "output_type": "stream",
     "text": [
      "Best alpha: {'alpha': 10}\n",
      "R-squared Score: 0.671786004359015\n",
      "Mean Squared Error: 0.132673800236857\n",
      "Mean Absolute Error: 0.2795254434043059\n",
      "Root Mean Squared Error: 0.36424414921431064\n"
     ]
    }
   ],
   "source": [
    "from sklearn.linear_model import Ridge\n",
    "from sklearn.model_selection import GridSearchCV\n",
    "\n",
    "# Create and fit the model with hyperparameter tuning\n",
    "ridge = Ridge()\n",
    "parameters = {'alpha': [0.1, 1, 10]}\n",
    "ridge_regressor = GridSearchCV(ridge, parameters, scoring='neg_mean_squared_error', cv=5)\n",
    "ridge_regressor.fit(X_train, y_train)\n",
    "\n",
    "print(\"Best alpha:\", ridge_regressor.best_params_)\n",
    "\n",
    "# Predict on the test set\n",
    "y_pred = ridge_regressor.predict(X_test)\n",
    "\n",
    "# Calculate R-squared score\n",
    "r2 = r2_score(y_test, y_pred)\n",
    "print(\"R-squared Score:\", r2)\n",
    "\n",
    "# Evaluate the model\n",
    "mse = mean_squared_error(y_test, y_pred)\n",
    "print(\"Mean Squared Error:\", mse)\n",
    "\n",
    "# Calculate Mean Absolute Error\n",
    "mae = mean_absolute_error(y_test, y_pred)\n",
    "print(\"Mean Absolute Error:\", mae)\n",
    "\n",
    "# Calculate Root Mean Squared Error\n",
    "rmse = np.sqrt(mse)\n",
    "print(\"Root Mean Squared Error:\", rmse)"
   ]
  },
  {
   "cell_type": "markdown",
   "id": "328731d7",
   "metadata": {},
   "source": [
    "#### Random Forest"
   ]
  },
  {
   "cell_type": "code",
   "execution_count": 124,
   "id": "875b65c6",
   "metadata": {},
   "outputs": [
    {
     "name": "stdout",
     "output_type": "stream",
     "text": [
      "R-squared Score: 0.9066166251091478\n",
      "Mean Squared Error: 0.03774832088289335\n",
      "Mean Absolute Error: 0.15275713908032876\n",
      "Root Mean Squared Error: 0.19428927114715663\n"
     ]
    }
   ],
   "source": [
    "from sklearn.ensemble import RandomForestRegressor\n",
    "\n",
    "\n",
    "# Fit the model\n",
    "rf_regressor = RandomForestRegressor(n_estimators=100, random_state=42)\n",
    "rf_regressor.fit(X_train, y_train)\n",
    "\n",
    "# Predict on the test set\n",
    "y_pred = rf_regressor.predict(X_test)\n",
    "\n",
    "# Calculate R-squared score\n",
    "r2 = r2_score(y_test, y_pred)\n",
    "print(\"R-squared Score:\", r2)\n",
    "\n",
    "# Calculate Mean Squared Error\n",
    "mse = mean_squared_error(y_test, y_pred)\n",
    "print(\"Mean Squared Error:\", mse)\n",
    "\n",
    "# Calculate Mean Absolute Error\n",
    "mae = mean_absolute_error(y_test, y_pred)\n",
    "print(\"Mean Absolute Error:\", mae)\n",
    "\n",
    "# Calculate Root Mean Squared Error\n",
    "rmse = np.sqrt(mse)\n",
    "print(\"Root Mean Squared Error:\", rmse)"
   ]
  },
  {
   "cell_type": "markdown",
   "id": "56c6404e",
   "metadata": {},
   "source": [
    "#### Support Vector Machine"
   ]
  },
  {
   "cell_type": "code",
   "execution_count": 126,
   "id": "714762f8",
   "metadata": {},
   "outputs": [
    {
     "name": "stdout",
     "output_type": "stream",
     "text": [
      "R-squared Score: 0.8936470510369804\n",
      "Mean Squared Error: 0.042991006150617454\n",
      "Mean Absolute Error: 0.15454138302297304\n",
      "Root Mean Squared Error: 0.2073427263026544\n"
     ]
    }
   ],
   "source": [
    "from sklearn.svm import SVR\n",
    "\n",
    "# Create and fit the model\n",
    "svr_regressor = SVR(kernel='rbf')\n",
    "svr_regressor.fit(X_train, y_train)\n",
    "\n",
    "# Predict on the test set\n",
    "y_pred = svr_regressor.predict(X_test)\n",
    "\n",
    "# Calculate R-squared score\n",
    "r2 = r2_score(y_test, y_pred)\n",
    "print(\"R-squared Score:\", r2)\n",
    "\n",
    "# Calculate Mean Squared Error\n",
    "mse = mean_squared_error(y_test, y_pred)\n",
    "print(\"Mean Squared Error:\", mse)\n",
    "\n",
    "# Calculate Mean Absolute Error\n",
    "mae = mean_absolute_error(y_test, y_pred)\n",
    "print(\"Mean Absolute Error:\", mae)\n",
    "\n",
    "# Calculate Root Mean Squared Error\n",
    "rmse = np.sqrt(mse)\n",
    "print(\"Root Mean Squared Error:\", rmse)\n"
   ]
  },
  {
   "cell_type": "markdown",
   "id": "fb00a0b7-a0b6-41f2-b247-546faf3aa953",
   "metadata": {},
   "source": [
    "#### AdaBoost Regression"
   ]
  },
  {
   "cell_type": "code",
   "execution_count": 128,
   "id": "607f88e5-1145-4c24-989b-3a100d79e954",
   "metadata": {},
   "outputs": [
    {
     "name": "stdout",
     "output_type": "stream",
     "text": [
      "R-squared Score: 0.8400985625542385\n",
      "Mean Squared Error: 0.06463688828331032\n",
      "Mean Absolute Error: 0.20213231060149278\n",
      "Root Mean Squared Error: 0.25423785769100227\n"
     ]
    }
   ],
   "source": [
    "from sklearn.ensemble import AdaBoostRegressor\n",
    "from sklearn.tree import DecisionTreeRegressor\n",
    "\n",
    "# Initialize the base model for AdaBoost\n",
    "base_model = DecisionTreeRegressor(max_depth=4)\n",
    "\n",
    "# Initialize AdaBoost Regressor\n",
    "ada_regressor = AdaBoostRegressor(base_model, n_estimators=50, random_state=42)\n",
    "\n",
    "# Create and fit the model\n",
    "ada_regressor.fit(X_train, y_train)\n",
    "\n",
    "# Predict on the test set\n",
    "y_pred = ada_regressor.predict(X_test)\n",
    "\n",
    "# Calculate R-squared score\n",
    "r2 = r2_score(y_test, y_pred)\n",
    "print(\"R-squared Score:\", r2)\n",
    "\n",
    "# Calculate Mean Squared Error\n",
    "mse = mean_squared_error(y_test, y_pred)\n",
    "print(\"Mean Squared Error:\", mse)\n",
    "\n",
    "# Calculate Mean Absolute Error\n",
    "mae = mean_absolute_error(y_test, y_pred)\n",
    "print(\"Mean Absolute Error:\", mae)\n",
    "\n",
    "# Calculate Root Mean Squared Error\n",
    "rmse = np.sqrt(mse)\n",
    "print(\"Root Mean Squared Error:\", rmse)"
   ]
  },
  {
   "cell_type": "code",
   "execution_count": 147,
   "id": "0c7a59e6",
   "metadata": {},
   "outputs": [
    {
     "name": "stdout",
     "output_type": "stream",
     "text": [
      "                   Algorithm R2 Score\n",
      "0          Linear Regression    0.672\n",
      "1           Rigde Regression    0.671\n",
      "2   Random Forest Regression    0.906\n",
      "3  Support Vector Regression    0.893\n",
      "4          AdaBoostRegressor    0.840\n"
     ]
    }
   ],
   "source": [
    "# Create a DataFrame with two columns\n",
    "data = {\n",
    "    'Algorithm': ['Linear Regression', 'Rigde Regression', 'Random Forest Regression', 'Support Vector Regression','AdaBoostRegressor'],\n",
    "    'R2 Score': ['0.672', '0.671', ' 0.906', '0.893','0.840']\n",
    "}\n",
    "\n",
    "df1 = pd.DataFrame(data)\n",
    "\n",
    "# Display the DataFrame\n",
    "print(df1)"
   ]
  },
  {
   "cell_type": "markdown",
   "id": "d4098b15",
   "metadata": {},
   "source": [
    "Clearly in this dataset, Random Forest Regression (RFR) consistently exhibits superior performance, likely attributed to its capability to effectively capture intricate patterns in the data while mitigating overfitting, resulting in higher predictive accuracy and generalization"
   ]
  },
  {
   "cell_type": "code",
   "execution_count": null,
   "id": "2b3e70b0",
   "metadata": {},
   "outputs": [],
   "source": []
  },
  {
   "cell_type": "code",
   "execution_count": null,
   "id": "525276e7",
   "metadata": {},
   "outputs": [],
   "source": []
  },
  {
   "cell_type": "code",
   "execution_count": null,
   "id": "a68b1bae",
   "metadata": {},
   "outputs": [],
   "source": []
  }
 ],
 "metadata": {
  "kernelspec": {
   "display_name": "Python 3 (ipykernel)",
   "language": "python",
   "name": "python3"
  },
  "language_info": {
   "codemirror_mode": {
    "name": "ipython",
    "version": 3
   },
   "file_extension": ".py",
   "mimetype": "text/x-python",
   "name": "python",
   "nbconvert_exporter": "python",
   "pygments_lexer": "ipython3",
   "version": "3.12.4"
  }
 },
 "nbformat": 4,
 "nbformat_minor": 5
}
